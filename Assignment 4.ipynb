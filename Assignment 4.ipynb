{
 "cells": [
  {
   "cell_type": "code",
   "execution_count": 1,
   "metadata": {},
   "outputs": [
    {
     "name": "stdout",
     "output_type": "stream",
     "text": [
      "Select Operation.\n",
      "1. add\n",
      "2. subtract\n",
      "3. multiply\n",
      "4. divide\n",
      "5. power\n",
      "Enter select operation (1/2/3/4/5)1\n",
      "Enter First Number:  2\n",
      "Enter Second Number: 2\n",
      "2.0 + 2.0 = 4.0\n"
     ]
    }
   ],
   "source": [
    "#Mehdi Ali\n",
    "#yarpamehdi2000@gmail.com\n",
    "\n",
    "#1. Make a calculator using Python with addition , subtraction ,\n",
    "#multiplication ,division and power.\n",
    "\n",
    "def add(x, y):\n",
    "    return x + y\n",
    "\n",
    "def subtract(x, y):\n",
    "    return x - y\n",
    "\n",
    "def multiply(x, y):\n",
    "    return x * y\n",
    "\n",
    "def divide(x, y):\n",
    "    return x / y\n",
    "  \n",
    "\n",
    "print(\"Select Operation.\")\n",
    "\n",
    "print(\"1. add\")\n",
    "\n",
    "print(\"2. subtract\")\n",
    "\n",
    "print(\"3. multiply\")\n",
    "\n",
    "print(\"4. divide\")\n",
    "\n",
    "print(\"5. power\")\n",
    "\n",
    "select = input (\"Enter select operation (1/2/3/4/5)\")\n",
    "\n",
    "num1 = float(int(input(\"Enter First Number:  \")))\n",
    "num2 = float(int(input(\"Enter Second Number: \")))\n",
    "\n",
    "if select == '1':\n",
    "    print(num1, \"+\", num2, \"=\", add(num1, num2))\n",
    "     \n",
    "elif select == '2':\n",
    "    print(num1, \"-\", num2, \"=\", subtract(num1, num2))\n",
    "    \n",
    "elif select == '3':\n",
    "    print(num1, \"*\", num2, \"=\", multiply(num1, num2))    \n",
    "    \n",
    "    \n",
    "elif select == '4':\n",
    "    print(num1, \"/\", num2, \"=\", divide(num1, num2))   \n",
    "    \n",
    "elif select == '5':\n",
    "    import math\n",
    "    power = math.pow(num1, num2)\n",
    "    print(num1, \"^\", num2, \"=\", power) \n",
    "    \n",
    "else:\n",
    "    print(\"Invalid input\")"
   ]
  },
  {
   "cell_type": "code",
   "execution_count": 6,
   "metadata": {},
   "outputs": [
    {
     "name": "stdout",
     "output_type": "stream",
     "text": [
      "1 ornge\n",
      "2 mango\n",
      "3 banana\n",
      "4 apple\n"
     ]
    }
   ],
   "source": [
    "#3. Write a Python script to add a key to a dictionary.\n",
    "\n",
    "\n",
    "a = {1:'ornge', 2:'mango', 3:'banana'}\n",
    "a[4] = 'apple'\n",
    "for key, value in a.items():\n",
    "    print(key, value)"
   ]
  },
  {
   "cell_type": "code",
   "execution_count": 7,
   "metadata": {},
   "outputs": [
    {
     "name": "stdout",
     "output_type": "stream",
     "text": [
      "30\n"
     ]
    }
   ],
   "source": [
    "#2. Write a program to check if there is any numeric value in list using for\n",
    "#loop.\n",
    "\n",
    "\n",
    "list = [\"apple\", 30, \"mango\", \"ornge\"]\n",
    "for x in list:\n",
    "    if type(x) == int:\n",
    "        print(x)"
   ]
  },
  {
   "cell_type": "code",
   "execution_count": 8,
   "metadata": {},
   "outputs": [
    {
     "name": "stdout",
     "output_type": "stream",
     "text": [
      "sum is : 79\n"
     ]
    }
   ],
   "source": [
    "# 4. Write a Python program to sum all the numeric items in a dictionary.\n",
    "\n",
    "\n",
    "my_dict = {'a':20, 'b':99, 'c':-45, 'd':-4, 'e':9}\n",
    "def returnSum(my_dict):\n",
    "    \n",
    "    sum = 0\n",
    "    for i in my_dict.values():\n",
    "        sum = sum + i\n",
    "    return sum\n",
    "print(\"sum is :\", returnSum(my_dict))"
   ]
  },
  {
   "cell_type": "code",
   "execution_count": 9,
   "metadata": {},
   "outputs": [
    {
     "name": "stdout",
     "output_type": "stream",
     "text": [
      "Duplicates =   [10, 3, -1]\n"
     ]
    }
   ],
   "source": [
    "# 5. Write a program to identify duplicate values from list.\n",
    "\n",
    "\n",
    "li = [ 10, 3, 4, -1, -1, 7, 3, 5, 10]\n",
    "def duplicate(li):\n",
    "    n = len(li)\n",
    "    dup = []\n",
    "    for i in range(n):\n",
    "        k = i + 1\n",
    "        for j in range(k, n):\n",
    "            if li[i] == li[j] not in dup:\n",
    "                dup.append(li[i])\n",
    "    return dup\n",
    "print(\"Duplicates =  \", duplicate(li))"
   ]
  },
  {
   "cell_type": "code",
   "execution_count": 10,
   "metadata": {},
   "outputs": [
    {
     "name": "stdout",
     "output_type": "stream",
     "text": [
      "Key is present in the dictionary\n",
      "Key is not present in the dictionary\n"
     ]
    }
   ],
   "source": [
    "# 6. Write a Python script to check if a given key already exists in a dictionary\n",
    "\n",
    "\n",
    "d = {1: 10, 2: 20, 3: 30, 4: 40, 5: 50, 6: 60}\n",
    "def is_key_present(x):\n",
    "    if x in d:\n",
    "        print('Key is present in the dictionary')\n",
    "    else:\n",
    "        print('Key is not present in the dictionary')\n",
    "is_key_present(5)\n",
    "is_key_present(9)"
   ]
  },
  {
   "cell_type": "code",
   "execution_count": null,
   "metadata": {},
   "outputs": [],
   "source": []
  }
 ],
 "metadata": {
  "kernelspec": {
   "display_name": "Python 3",
   "language": "python",
   "name": "python3"
  },
  "language_info": {
   "codemirror_mode": {
    "name": "ipython",
    "version": 3
   },
   "file_extension": ".py",
   "mimetype": "text/x-python",
   "name": "python",
   "nbconvert_exporter": "python",
   "pygments_lexer": "ipython3",
   "version": "3.6.5"
  }
 },
 "nbformat": 4,
 "nbformat_minor": 2
}
